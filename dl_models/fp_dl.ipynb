{
 "cells": [
  {
   "cell_type": "code",
   "execution_count": 1,
   "metadata": {},
   "outputs": [],
   "source": [
    "import sys\n",
    "from IPython.display import SVG\n",
    "from rdkit import rdBase\n",
    "from rdkit import Chem\n",
    "from rdkit.Chem import AllChem, DataStructs\n",
    "from rdkit.Chem.Draw import DrawMorganBit, DrawMorganBits,DrawMorganEnv, IPythonConsole\n",
    "import pandas as pd\n",
    "import numpy as np\n",
    "import matplotlib.pyplot as plt\n",
    "from rdkit.Chem import MACCSkeys"
   ]
  },
  {
   "cell_type": "code",
   "execution_count": 61,
   "metadata": {},
   "outputs": [],
   "source": [
    "with open('../data/substituted_benzene_meta_/substituted_benzene_meta_.smi','r+') as f:\n",
    "    a = f.readlines()\n",
    "smiles = []\n",
    "for b in range(len(a)):\n",
    "    smiles.append(a[b].strip('\\n'))\n",
    "mols1 = [Chem.MolFromSmiles(smi) for smi in smiles]"
   ]
  },
  {
   "cell_type": "code",
   "execution_count": 62,
   "metadata": {},
   "outputs": [],
   "source": [
    "with open('../data/substituted_benzene_orth_/substituted_benzene_orth_.smi','r+') as f:\n",
    "    a = f.readlines()\n",
    "smiles = []\n",
    "for b in range(len(a)):\n",
    "    smiles.append(a[b].strip('\\n'))\n",
    "mols2 = [Chem.MolFromSmiles(smi) for smi in smiles]"
   ]
  },
  {
   "cell_type": "code",
   "execution_count": 63,
   "metadata": {},
   "outputs": [],
   "source": [
    "with open('../data/substituted_benzene_para_/substituted_benzene_para_.smi','r+') as f:\n",
    "    a = f.readlines()\n",
    "smiles = []\n",
    "for b in range(len(a)):\n",
    "    smiles.append(a[b].strip('\\n'))\n",
    "mols3 = [Chem.MolFromSmiles(smi) for smi in smiles]"
   ]
  },
  {
   "cell_type": "code",
   "execution_count": 64,
   "metadata": {},
   "outputs": [],
   "source": [
    "mols = mols1+mols2+mols3"
   ]
  },
  {
   "cell_type": "code",
   "execution_count": 66,
   "metadata": {},
   "outputs": [
    {
     "data": {
      "text/plain": [
       "360"
      ]
     },
     "execution_count": 66,
     "metadata": {},
     "output_type": "execute_result"
    }
   ],
   "source": [
    "len(mols)"
   ]
  },
  {
   "cell_type": "code",
   "execution_count": 67,
   "metadata": {},
   "outputs": [],
   "source": [
    "fingerprints = [MACCSkeys.GenMACCSKeys(molecule) for molecule in mols]"
   ]
  },
  {
   "cell_type": "code",
   "execution_count": 68,
   "metadata": {},
   "outputs": [],
   "source": [
    "ls = [list(fp.ToBitString()) for fp in fingerprints]"
   ]
  },
  {
   "cell_type": "code",
   "execution_count": 69,
   "metadata": {},
   "outputs": [],
   "source": [
    "X = np.array(ls)"
   ]
  },
  {
   "cell_type": "code",
   "execution_count": 70,
   "metadata": {},
   "outputs": [
    {
     "data": {
      "text/plain": [
       "(360, 167)"
      ]
     },
     "execution_count": 70,
     "metadata": {},
     "output_type": "execute_result"
    }
   ],
   "source": [
    "X.shape"
   ]
  },
  {
   "cell_type": "code",
   "execution_count": 71,
   "metadata": {},
   "outputs": [],
   "source": [
    "gammadata_meta = pd.read_csv('../data/substituted_benzene_meta_/substituted_benzene_meta_gamma.csv')"
   ]
  },
  {
   "cell_type": "code",
   "execution_count": 72,
   "metadata": {},
   "outputs": [],
   "source": [
    "gammadata_orth = pd.read_csv('../data/substituted_benzene_orth_/substituted_benzene_orth_gamma.csv')"
   ]
  },
  {
   "cell_type": "code",
   "execution_count": 73,
   "metadata": {},
   "outputs": [],
   "source": [
    "gammadata_para = pd.read_csv('../data/substituted_benzene_para_/substituted_benzene_para_gamma.csv')"
   ]
  },
  {
   "cell_type": "code",
   "execution_count": 74,
   "metadata": {},
   "outputs": [],
   "source": [
    "gammadata_meta['id']= [int(name.split('_')[-1]) for name in gammadata_meta.name]"
   ]
  },
  {
   "cell_type": "code",
   "execution_count": 75,
   "metadata": {},
   "outputs": [],
   "source": [
    "gammadata_orth['id']= [int(name.split('_')[-1]) for name in gammadata_orth.name]"
   ]
  },
  {
   "cell_type": "code",
   "execution_count": 76,
   "metadata": {},
   "outputs": [],
   "source": [
    "gammadata_para['id']= [int(name.split('_')[-1]) for name in gammadata_para.name]"
   ]
  },
  {
   "cell_type": "code",
   "execution_count": 82,
   "metadata": {},
   "outputs": [],
   "source": [
    "gammadata_meta=gammadata_meta.sort_values(by=['id'],ignore_index=True)"
   ]
  },
  {
   "cell_type": "code",
   "execution_count": 83,
   "metadata": {},
   "outputs": [],
   "source": [
    "gammadata_orth=gammadata_orth.sort_values(by=['id'],ignore_index=True)"
   ]
  },
  {
   "cell_type": "code",
   "execution_count": 84,
   "metadata": {},
   "outputs": [],
   "source": [
    "gammadata_para=gammadata_para.sort_values(by=['id'],ignore_index=True)"
   ]
  },
  {
   "cell_type": "code",
   "execution_count": 85,
   "metadata": {},
   "outputs": [],
   "source": [
    "gamma = pd.concat([gammadata_meta,gammadata_orth,gammadata_para],axis=0,join='inner',ignore_index=True)"
   ]
  },
  {
   "cell_type": "code",
   "execution_count": 86,
   "metadata": {},
   "outputs": [
    {
     "data": {
      "text/html": [
       "<div>\n",
       "<style scoped>\n",
       "    .dataframe tbody tr th:only-of-type {\n",
       "        vertical-align: middle;\n",
       "    }\n",
       "\n",
       "    .dataframe tbody tr th {\n",
       "        vertical-align: top;\n",
       "    }\n",
       "\n",
       "    .dataframe thead th {\n",
       "        text-align: right;\n",
       "    }\n",
       "</style>\n",
       "<table border=\"1\" class=\"dataframe\">\n",
       "  <thead>\n",
       "    <tr style=\"text-align: right;\">\n",
       "      <th></th>\n",
       "      <th>name</th>\n",
       "      <th>gamma</th>\n",
       "      <th>id</th>\n",
       "    </tr>\n",
       "  </thead>\n",
       "  <tbody>\n",
       "    <tr>\n",
       "      <th>0</th>\n",
       "      <td>substituted_benzene_meta_0</td>\n",
       "      <td>9179.023</td>\n",
       "      <td>0</td>\n",
       "    </tr>\n",
       "    <tr>\n",
       "      <th>1</th>\n",
       "      <td>substituted_benzene_meta_1</td>\n",
       "      <td>12906.820</td>\n",
       "      <td>1</td>\n",
       "    </tr>\n",
       "    <tr>\n",
       "      <th>2</th>\n",
       "      <td>substituted_benzene_meta_2</td>\n",
       "      <td>10334.300</td>\n",
       "      <td>2</td>\n",
       "    </tr>\n",
       "    <tr>\n",
       "      <th>3</th>\n",
       "      <td>substituted_benzene_meta_3</td>\n",
       "      <td>12758.570</td>\n",
       "      <td>3</td>\n",
       "    </tr>\n",
       "    <tr>\n",
       "      <th>4</th>\n",
       "      <td>substituted_benzene_meta_4</td>\n",
       "      <td>16212.820</td>\n",
       "      <td>4</td>\n",
       "    </tr>\n",
       "    <tr>\n",
       "      <th>...</th>\n",
       "      <td>...</td>\n",
       "      <td>...</td>\n",
       "      <td>...</td>\n",
       "    </tr>\n",
       "    <tr>\n",
       "      <th>355</th>\n",
       "      <td>substituted_benzene_para_115</td>\n",
       "      <td>17855.020</td>\n",
       "      <td>115</td>\n",
       "    </tr>\n",
       "    <tr>\n",
       "      <th>356</th>\n",
       "      <td>substituted_benzene_para_116</td>\n",
       "      <td>13104.490</td>\n",
       "      <td>116</td>\n",
       "    </tr>\n",
       "    <tr>\n",
       "      <th>357</th>\n",
       "      <td>substituted_benzene_para_117</td>\n",
       "      <td>13675.160</td>\n",
       "      <td>117</td>\n",
       "    </tr>\n",
       "    <tr>\n",
       "      <th>358</th>\n",
       "      <td>substituted_benzene_para_118</td>\n",
       "      <td>21277.000</td>\n",
       "      <td>118</td>\n",
       "    </tr>\n",
       "    <tr>\n",
       "      <th>359</th>\n",
       "      <td>substituted_benzene_para_119</td>\n",
       "      <td>16375.030</td>\n",
       "      <td>119</td>\n",
       "    </tr>\n",
       "  </tbody>\n",
       "</table>\n",
       "<p>360 rows × 3 columns</p>\n",
       "</div>"
      ],
      "text/plain": [
       "                             name      gamma   id\n",
       "0      substituted_benzene_meta_0   9179.023    0\n",
       "1      substituted_benzene_meta_1  12906.820    1\n",
       "2      substituted_benzene_meta_2  10334.300    2\n",
       "3      substituted_benzene_meta_3  12758.570    3\n",
       "4      substituted_benzene_meta_4  16212.820    4\n",
       "..                            ...        ...  ...\n",
       "355  substituted_benzene_para_115  17855.020  115\n",
       "356  substituted_benzene_para_116  13104.490  116\n",
       "357  substituted_benzene_para_117  13675.160  117\n",
       "358  substituted_benzene_para_118  21277.000  118\n",
       "359  substituted_benzene_para_119  16375.030  119\n",
       "\n",
       "[360 rows x 3 columns]"
      ]
     },
     "execution_count": 86,
     "metadata": {},
     "output_type": "execute_result"
    }
   ],
   "source": [
    "gamma"
   ]
  },
  {
   "cell_type": "code",
   "execution_count": null,
   "metadata": {},
   "outputs": [],
   "source": []
  },
  {
   "cell_type": "code",
   "execution_count": 88,
   "metadata": {},
   "outputs": [],
   "source": [
    "Y = gamma.iloc[:, -2]\n",
    "Y = np.array(Y, dtype = np.float32)\n",
    "Y=Y/45000"
   ]
  },
  {
   "cell_type": "code",
   "execution_count": 89,
   "metadata": {},
   "outputs": [
    {
     "data": {
      "text/plain": [
       "array([['0', '0', '0', ..., '0', '1', '0'],\n",
       "       ['0', '0', '0', ..., '1', '1', '0'],\n",
       "       ['0', '0', '0', ..., '0', '1', '0'],\n",
       "       ...,\n",
       "       ['0', '0', '0', ..., '1', '1', '0'],\n",
       "       ['0', '0', '0', ..., '0', '1', '0'],\n",
       "       ['0', '0', '0', ..., '1', '1', '0']], dtype='<U1')"
      ]
     },
     "execution_count": 89,
     "metadata": {},
     "output_type": "execute_result"
    }
   ],
   "source": [
    "X"
   ]
  },
  {
   "cell_type": "code",
   "execution_count": 90,
   "metadata": {},
   "outputs": [
    {
     "data": {
      "text/plain": [
       "array([0.2039783 , 0.28681824, 0.22965111, 0.2835238 , 0.3602849 ,\n",
       "       0.24162023, 0.2697171 , 0.30515513, 0.2616631 , 0.28711268,\n",
       "       0.4211067 , 0.29260555, 0.40042308, 0.32775867, 0.24825512,\n",
       "       0.254074  , 0.256228  , 0.23612355, 0.26550665, 0.2464251 ,\n",
       "       0.44130933, 0.2689089 , 0.32336134, 0.44498113, 0.274124  ,\n",
       "       0.30971044, 0.47401512, 0.19129275, 0.41973644, 0.24391888,\n",
       "       0.3402329 , 0.32203645, 0.25178066, 0.32216468, 0.45291045,\n",
       "       0.23413779, 0.2349269 , 0.12421831, 0.40459067, 0.30618554,\n",
       "       0.2917571 , 0.32818443, 0.40523157, 0.48691133, 0.20296274,\n",
       "       0.31310824, 0.24269623, 0.40105468, 0.26341867, 0.28414842,\n",
       "       0.25678444, 0.45863846, 0.56163   , 0.20253885, 0.22540466,\n",
       "       0.17762406, 0.25386223, 0.1992704 , 0.6219789 , 0.21353361,\n",
       "       0.41101268, 0.47456667, 0.21326324, 0.3337738 , 0.28447935,\n",
       "       0.21738422, 0.18282765, 0.37978446, 0.36606288, 0.2432491 ,\n",
       "       0.301168  , 0.37904444, 0.32589823, 0.35148266, 0.21236987,\n",
       "       0.27038088, 0.23344423, 0.39571133, 0.25932845, 0.3748731 ,\n",
       "       0.49646446, 0.31028244, 0.1853012 , 0.31750578, 0.29951844,\n",
       "       0.36185423, 0.34439445, 0.23921221, 0.27140042, 0.45885712,\n",
       "       0.6131691 , 0.22746867, 0.28190356, 0.66933644, 0.27321112,\n",
       "       0.3241811 , 0.16475867, 0.300884  , 0.49126023, 0.24546689,\n",
       "       0.33636   , 0.15258384, 0.19187947, 0.545128  , 0.2865202 ,\n",
       "       0.41534245, 0.25838044, 0.44330043, 0.27851754, 0.4740196 ,\n",
       "       0.24769089, 0.24606356, 0.24766824, 0.41042933, 0.25560713,\n",
       "       0.48914844, 0.3458658 , 0.23298267, 0.437496  , 0.2780502 ,\n",
       "       0.22194523, 0.24364445, 0.27626956, 0.22961888, 0.21317211,\n",
       "       0.23037355, 0.38274843, 0.31890267, 0.25592288, 0.41885313,\n",
       "       0.253692  , 0.37918043, 0.46658847, 0.12506478, 0.30200577,\n",
       "       0.21489125, 0.25890198, 0.28174376, 0.22731645, 0.19722073,\n",
       "       0.1783297 , 0.5097369 , 0.3986471 , 0.2082095 , 0.21214242,\n",
       "       0.24790311, 0.42759046, 0.25481644, 0.273126  , 0.40750155,\n",
       "       0.38568598, 0.25034022, 0.2226391 , 0.22627978, 0.24906068,\n",
       "       0.4363453 , 0.4202629 , 0.4322542 , 0.29310068, 0.48804957,\n",
       "       0.41106376, 0.49520668, 0.23627889, 0.23766421, 0.2563393 ,\n",
       "       0.21122506, 0.236638  , 0.32984313, 0.3458589 , 0.17239743,\n",
       "       0.247636  , 0.42791933, 0.18140657, 0.20367792, 0.4146091 ,\n",
       "       0.27207312, 0.45099622, 0.24532533, 0.44949445, 0.25053087,\n",
       "       0.24189843, 0.22305356, 0.35658133, 0.20644186, 0.36024156,\n",
       "       0.27992532, 0.25259712, 0.22089134, 0.28523755, 0.3222869 ,\n",
       "       0.2547589 , 0.29487532, 0.14947689, 0.30073   , 0.18755423,\n",
       "       0.22468445, 0.24821667, 0.23257533, 0.31545356, 0.3780562 ,\n",
       "       0.23407532, 0.31091756, 0.19207865, 0.32386887, 0.3759269 ,\n",
       "       0.34059957, 0.19297543, 0.26499245, 0.22507556, 0.5447429 ,\n",
       "       0.30035156, 0.42974645, 0.22756356, 0.32374644, 0.27531734,\n",
       "       0.24407154, 0.3087138 , 0.36751488, 0.31136844, 0.22478177,\n",
       "       0.42806423, 0.33736446, 0.2943142 , 0.3075769 , 0.26689842,\n",
       "       0.25342312, 0.20879112, 0.32026312, 0.24738133, 0.19387376,\n",
       "       0.38481224, 0.37564757, 0.22808868, 0.24936421, 0.28857267,\n",
       "       0.26851067, 0.44584224, 0.23390865, 0.5278762 , 0.28232533,\n",
       "       0.24473134, 0.32023066, 0.3659171 , 0.23040865, 0.40551376,\n",
       "       0.36518666, 0.2564271 , 0.3797389 , 0.34923866, 0.27217954,\n",
       "       0.29960042, 0.49697644, 0.5473538 , 0.4886649 , 0.44952422,\n",
       "       0.4233173 , 0.375878  , 0.361192  , 0.594292  , 0.76392376,\n",
       "       0.1800398 , 0.17748858, 0.46224445, 0.25130445, 0.33235687,\n",
       "       0.31528333, 0.7612457 , 0.34228888, 0.4211789 , 0.3258871 ,\n",
       "       0.74126977, 0.3969691 , 0.3429349 , 0.28236777, 0.45257488,\n",
       "       0.9732406 , 0.23337778, 0.6926611 , 0.23551267, 0.21111302,\n",
       "       0.61884916, 0.36728534, 0.55836153, 0.8797442 , 0.41791466,\n",
       "       0.5335769 , 0.15969202, 0.13799474, 0.35342512, 0.33330488,\n",
       "       0.79857135, 0.222562  , 0.18223557, 0.27694422, 0.34194067,\n",
       "       0.25890267, 0.46778625, 0.27294287, 0.30870557, 0.40128532,\n",
       "       0.6472855 , 0.9816967 , 0.262012  , 0.50716066, 0.41131425,\n",
       "       0.33742023, 0.37177977, 0.314878  , 0.4305371 , 0.11790387,\n",
       "       0.21219036, 0.15358755, 0.48052445, 0.5722513 , 0.21358599,\n",
       "       0.34916088, 0.499374  , 0.28676355, 0.46010113, 0.30416912,\n",
       "       0.31489   , 0.27257243, 0.2678369 , 0.35790333, 0.517664  ,\n",
       "       0.38371047, 0.24196777, 0.41281554, 0.603114  , 0.3741369 ,\n",
       "       0.57883376, 0.35749334, 0.28870776, 0.20386395, 0.5435173 ,\n",
       "       0.27271912, 0.37980732, 0.3087022 , 0.17617667, 0.2794511 ,\n",
       "       0.5164407 , 0.18758628, 0.28831977, 0.36597556, 0.3099689 ,\n",
       "       0.32507712, 0.23540755, 0.42829844, 0.5879731 , 0.3110111 ,\n",
       "       0.33874178, 0.4265189 , 0.8250262 , 0.18718262, 0.257406  ,\n",
       "       0.39677823, 0.2912109 , 0.30389243, 0.47282222, 0.36388958],\n",
       "      dtype=float32)"
      ]
     },
     "execution_count": 90,
     "metadata": {},
     "output_type": "execute_result"
    }
   ],
   "source": [
    "Y"
   ]
  },
  {
   "cell_type": "code",
   "execution_count": 91,
   "metadata": {},
   "outputs": [],
   "source": [
    "np.save('fp_meta', X)"
   ]
  },
  {
   "cell_type": "code",
   "execution_count": 92,
   "metadata": {},
   "outputs": [],
   "source": [
    "np.save('ga_meta', Y)"
   ]
  },
  {
   "cell_type": "code",
   "execution_count": null,
   "metadata": {},
   "outputs": [],
   "source": []
  }
 ],
 "metadata": {
  "kernelspec": {
   "display_name": "Python 3",
   "language": "python",
   "name": "python3"
  },
  "language_info": {
   "codemirror_mode": {
    "name": "ipython",
    "version": 3
   },
   "file_extension": ".py",
   "mimetype": "text/x-python",
   "name": "python",
   "nbconvert_exporter": "python",
   "pygments_lexer": "ipython3",
   "version": "3.8.8"
  }
 },
 "nbformat": 4,
 "nbformat_minor": 4
}
