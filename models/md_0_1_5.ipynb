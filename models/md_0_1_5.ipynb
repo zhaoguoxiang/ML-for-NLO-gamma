{
 "cells": [
  {
   "cell_type": "markdown",
   "id": "facial-pixel",
   "metadata": {},
   "source": [
    "# Original Model"
   ]
  },
  {
   "cell_type": "markdown",
   "id": "monthly-franklin",
   "metadata": {},
   "source": [
    "`StandardScaler()`  `X`"
   ]
  },
  {
   "cell_type": "markdown",
   "id": "egyptian-register",
   "metadata": {},
   "source": [
    "change the learning rate to 0.001, change the epochs to 200\n",
    "\n",
    "linear scaler is `Y = (Y - min(Y))/(max(Y) - min(Y))`\n",
    "\n",
    "`batch_size` to 10"
   ]
  },
  {
   "cell_type": "markdown",
   "id": "vulnerable-order",
   "metadata": {},
   "source": [
    "增加了一个dropout层，参数设为0.05，和keras中的相同"
   ]
  },
  {
   "cell_type": "markdown",
   "id": "provincial-hindu",
   "metadata": {},
   "source": [
    "dropout 改为0.05"
   ]
  },
  {
   "cell_type": "markdown",
   "id": "patent-research",
   "metadata": {},
   "source": [
    "采用随机过采样的方式  https://zhuanlan.zhihu.com/p/137826761"
   ]
  },
  {
   "cell_type": "code",
   "execution_count": 1,
   "id": "verified-philip",
   "metadata": {},
   "outputs": [],
   "source": [
    "import pandas as pd\n",
    "import numpy as np\n",
    "import keras as kr\n",
    "import tensorflow as tf\n",
    "from keras.models import Sequential\n",
    "from keras.layers import Dense, Activation\n",
    "from keras.optimizers import SGD\n",
    "from sklearn.preprocessing import StandardScaler\n",
    "from sklearn import model_selection\n",
    "from imblearn.over_sampling import RandomOverSampler\n",
    "import matplotlib.pyplot as plt\n",
    "%matplotlib inline"
   ]
  },
  {
   "cell_type": "code",
   "execution_count": 2,
   "id": "special-journey",
   "metadata": {},
   "outputs": [],
   "source": [
    "md_para = pd.read_csv('../data/substituted_benzene_para_md.csv',index_col=0,header=0)\n",
    "md_orth = pd.read_csv('../data/substituted_benzene_orth_md.csv',index_col=0,header=0)\n",
    "md_meta = pd.read_csv('../data/substituted_benzene_meta_md.csv',index_col=0,header=0)\n",
    "mddata = pd.concat([md_meta,md_orth,md_para],axis=0,join='inner',ignore_index=True)\n",
    "\n",
    "gammadata_meta = pd.read_csv('../data/substituted_benzene_meta_gamma.csv',index_col=0,header=0)\n",
    "gammadata_orth = pd.read_csv('../data/substituted_benzene_orth_gamma.csv',index_col=0,header=0)\n",
    "gammadata_para = pd.read_csv('../data/substituted_benzene_para_gamma.csv',index_col=0,header=0)\n",
    "gammadata = pd.concat([gammadata_meta,gammadata_orth,gammadata_para],axis=0,join='inner',ignore_index=True)"
   ]
  },
  {
   "cell_type": "code",
   "execution_count": 3,
   "id": "smoking-longitude",
   "metadata": {},
   "outputs": [],
   "source": [
    "def dfclean(data):\n",
    "    temp = data[data.T[data.dtypes!=np.object].index]\n",
    "    kk=[]\n",
    "    for column in temp.columns:\n",
    "        if len(set(temp[column]))<4:\n",
    "            kk.append(column)\n",
    "    result = temp.drop(columns=kk)\n",
    "    return result"
   ]
  },
  {
   "cell_type": "code",
   "execution_count": 4,
   "id": "regulated-miniature",
   "metadata": {},
   "outputs": [],
   "source": [
    "rawdataset = pd.merge(mddata, gammadata, on='cindex')\n",
    "dataset = dfclean(rawdataset)"
   ]
  },
  {
   "cell_type": "code",
   "execution_count": 5,
   "id": "sharp-vienna",
   "metadata": {},
   "outputs": [],
   "source": [
    "#dataset = dataset[(dataset['magnitude_gamma'] < 22088)]"
   ]
  },
  {
   "cell_type": "code",
   "execution_count": 6,
   "id": "specialized-cooperative",
   "metadata": {},
   "outputs": [],
   "source": [
    "Y = dataset.iloc[:, -1]\n",
    "Y = np.array(Y, dtype = np.float32).reshape(-1,1)"
   ]
  },
  {
   "cell_type": "code",
   "execution_count": 7,
   "id": "cubic-cleaning",
   "metadata": {},
   "outputs": [],
   "source": [
    "X = dataset.iloc[:, 1:-1]\n",
    "X = np.array(X, dtype = np.float32)\n",
    "\n",
    "#Y= StandardScaler().fit_transform(Y)\n",
    "Y = (Y - min(Y))/(max(Y) - min(Y))\n",
    "#Y = Y/max(Y)\n",
    "X= StandardScaler().fit_transform(X)"
   ]
  },
  {
   "cell_type": "code",
   "execution_count": 8,
   "id": "leading-thirty",
   "metadata": {},
   "outputs": [
    {
     "ename": "ValueError",
     "evalue": "Unknown label type: 'continuous'",
     "output_type": "error",
     "traceback": [
      "\u001b[1;31m---------------------------------------------------------------------------\u001b[0m",
      "\u001b[1;31mValueError\u001b[0m                                Traceback (most recent call last)",
      "\u001b[1;32m<ipython-input-8-e428ef6394b4>\u001b[0m in \u001b[0;36m<module>\u001b[1;34m\u001b[0m\n\u001b[0;32m      1\u001b[0m \u001b[0mros\u001b[0m \u001b[1;33m=\u001b[0m \u001b[0mRandomOverSampler\u001b[0m\u001b[1;33m(\u001b[0m\u001b[0mrandom_state\u001b[0m\u001b[1;33m=\u001b[0m\u001b[1;36m13\u001b[0m\u001b[1;33m)\u001b[0m\u001b[1;33m\u001b[0m\u001b[1;33m\u001b[0m\u001b[0m\n\u001b[0;32m      2\u001b[0m \u001b[1;33m\u001b[0m\u001b[0m\n\u001b[1;32m----> 3\u001b[1;33m \u001b[0mX\u001b[0m\u001b[1;33m,\u001b[0m \u001b[0mY\u001b[0m \u001b[1;33m=\u001b[0m \u001b[0mros\u001b[0m\u001b[1;33m.\u001b[0m\u001b[0mfit_resample\u001b[0m\u001b[1;33m(\u001b[0m\u001b[0mX\u001b[0m\u001b[1;33m,\u001b[0m \u001b[0mY\u001b[0m\u001b[1;33m)\u001b[0m\u001b[1;33m\u001b[0m\u001b[1;33m\u001b[0m\u001b[0m\n\u001b[0m",
      "\u001b[1;32md:\\Miniconda3\\envs\\ai\\lib\\site-packages\\imblearn\\base.py\u001b[0m in \u001b[0;36mfit_resample\u001b[1;34m(self, X, y)\u001b[0m\n\u001b[0;32m     73\u001b[0m             \u001b[0mThe\u001b[0m \u001b[0mcorresponding\u001b[0m \u001b[0mlabel\u001b[0m \u001b[0mof\u001b[0m\u001b[0;31m \u001b[0m\u001b[0;31m`\u001b[0m\u001b[0mX_resampled\u001b[0m\u001b[0;31m`\u001b[0m\u001b[1;33m.\u001b[0m\u001b[1;33m\u001b[0m\u001b[1;33m\u001b[0m\u001b[0m\n\u001b[0;32m     74\u001b[0m         \"\"\"\n\u001b[1;32m---> 75\u001b[1;33m         \u001b[0mcheck_classification_targets\u001b[0m\u001b[1;33m(\u001b[0m\u001b[0my\u001b[0m\u001b[1;33m)\u001b[0m\u001b[1;33m\u001b[0m\u001b[1;33m\u001b[0m\u001b[0m\n\u001b[0m\u001b[0;32m     76\u001b[0m         \u001b[0marrays_transformer\u001b[0m \u001b[1;33m=\u001b[0m \u001b[0mArraysTransformer\u001b[0m\u001b[1;33m(\u001b[0m\u001b[0mX\u001b[0m\u001b[1;33m,\u001b[0m \u001b[0my\u001b[0m\u001b[1;33m)\u001b[0m\u001b[1;33m\u001b[0m\u001b[1;33m\u001b[0m\u001b[0m\n\u001b[0;32m     77\u001b[0m         \u001b[0mX\u001b[0m\u001b[1;33m,\u001b[0m \u001b[0my\u001b[0m\u001b[1;33m,\u001b[0m \u001b[0mbinarize_y\u001b[0m \u001b[1;33m=\u001b[0m \u001b[0mself\u001b[0m\u001b[1;33m.\u001b[0m\u001b[0m_check_X_y\u001b[0m\u001b[1;33m(\u001b[0m\u001b[0mX\u001b[0m\u001b[1;33m,\u001b[0m \u001b[0my\u001b[0m\u001b[1;33m)\u001b[0m\u001b[1;33m\u001b[0m\u001b[1;33m\u001b[0m\u001b[0m\n",
      "\u001b[1;32md:\\Miniconda3\\envs\\ai\\lib\\site-packages\\sklearn\\utils\\multiclass.py\u001b[0m in \u001b[0;36mcheck_classification_targets\u001b[1;34m(y)\u001b[0m\n\u001b[0;32m    181\u001b[0m     if y_type not in ['binary', 'multiclass', 'multiclass-multioutput',\n\u001b[0;32m    182\u001b[0m                       'multilabel-indicator', 'multilabel-sequences']:\n\u001b[1;32m--> 183\u001b[1;33m         \u001b[1;32mraise\u001b[0m \u001b[0mValueError\u001b[0m\u001b[1;33m(\u001b[0m\u001b[1;34m\"Unknown label type: %r\"\u001b[0m \u001b[1;33m%\u001b[0m \u001b[0my_type\u001b[0m\u001b[1;33m)\u001b[0m\u001b[1;33m\u001b[0m\u001b[1;33m\u001b[0m\u001b[0m\n\u001b[0m\u001b[0;32m    184\u001b[0m \u001b[1;33m\u001b[0m\u001b[0m\n\u001b[0;32m    185\u001b[0m \u001b[1;33m\u001b[0m\u001b[0m\n",
      "\u001b[1;31mValueError\u001b[0m: Unknown label type: 'continuous'"
     ]
    }
   ],
   "source": [
    "ros = RandomOverSampler(random_state=13)\n",
    "\n",
    "X, Y = ros.fit_resample(X, Y)"
   ]
  },
  {
   "cell_type": "code",
   "execution_count": null,
   "id": "likely-kansas",
   "metadata": {},
   "outputs": [],
   "source": [
    "X_train, X_test, y_train, y_test = model_selection.train_test_split(X, Y, test_size=0.25, random_state=42)\n",
    "model = Sequential()\n",
    "model.add(Dense(units = 50, input_dim = X.shape[1]))\n",
    "model.add(Activation(\"sigmoid\"))\n",
    "model.add(tf.keras.layers.Dropout(0.05))\n",
    "model.add(Dense(units = 1))\n",
    "model.summary()"
   ]
  },
  {
   "cell_type": "code",
   "execution_count": null,
   "id": "agricultural-costa",
   "metadata": {},
   "outputs": [],
   "source": [
    "model.compile(loss = 'mean_squared_error', optimizer = SGD(lr = 0.001, momentum = 0.9, nesterov = True),metrics=['accuracy'])\n",
    "history = model.fit(X_train, y_train, epochs = 200, batch_size = 10,validation_data = (X_test, y_test),verbose=0)\n",
    "score = model.evaluate(X_test, y_test, verbose = 0)\n",
    "print('Test loss:', score[0])\n",
    "print('Test accuracy:', score[1])\n",
    "y_pred = model.predict(X_test)\n",
    "rms = (np.mean((y_test - y_pred) ** 2)) ** 0.5\n",
    "print(\"Neural Network RMS\", rms)"
   ]
  },
  {
   "cell_type": "code",
   "execution_count": null,
   "id": "taken-stocks",
   "metadata": {},
   "outputs": [],
   "source": [
    "fig = plt.figure(figsize=(20,10))\n",
    "\n",
    "ax1 = fig.add_subplot(121)\n",
    "ax1.set_title('Neural Network Predictor')\n",
    "ax1.set_xlabel('Calculated gamma')\n",
    "ax1.set_ylabel('Predicted gamma')\n",
    "ax1.set_xlim(0,1)\n",
    "#ax1.set_ylim(0,1)\n",
    "ax1.scatter(y_train, model.predict(X_train), label = 'Train', c = 'blue')\n",
    "ax1.scatter(y_test, model.predict(X_test),c='green', label = 'Test', alpha = None)\n",
    "ax1.plot([0,1],[0,1],c = 'k')\n",
    "ax1.legend(loc = 4)\n",
    "\n",
    "loss = history.history['loss']\n",
    "val_loss = history.history['val_loss']\n",
    "epochs = len(loss)\n",
    "\n",
    "ax2 = fig.add_subplot(122)\n",
    "ax1.set_title('loss & val_loss for each epoch')\n",
    "ax2.set_xlabel('epochs')\n",
    "ax2.set_ylabel('loss')\n",
    "ax2.set_ylim(0,0.2)\n",
    "ax2.plot(range(epochs), loss, marker = '.', label = 'loss')\n",
    "ax2.plot(range(epochs), val_loss, marker = '.', label = 'val_loss')\n",
    "ax2.legend(loc = 'best')\n",
    "ax2.grid()\n",
    "\n",
    "plt.show()"
   ]
  },
  {
   "cell_type": "markdown",
   "id": "forbidden-compact",
   "metadata": {},
   "source": [
    "## Conclusion"
   ]
  },
  {
   "cell_type": "markdown",
   "id": "korean-rebel",
   "metadata": {},
   "source": [
    "提供的函数不能解决连续值的问题，因此先自己搞一下"
   ]
  },
  {
   "cell_type": "code",
   "execution_count": null,
   "id": "diverse-wallace",
   "metadata": {},
   "outputs": [],
   "source": []
  }
 ],
 "metadata": {
  "kernelspec": {
   "display_name": "Python 3",
   "language": "python",
   "name": "python3"
  },
  "language_info": {
   "codemirror_mode": {
    "name": "ipython",
    "version": 3
   },
   "file_extension": ".py",
   "mimetype": "text/x-python",
   "name": "python",
   "nbconvert_exporter": "python",
   "pygments_lexer": "ipython3",
   "version": "3.8.8"
  }
 },
 "nbformat": 4,
 "nbformat_minor": 5
}
