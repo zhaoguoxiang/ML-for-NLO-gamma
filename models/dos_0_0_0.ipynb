{
 "cells": [
  {
   "cell_type": "markdown",
   "id": "completed-belle",
   "metadata": {},
   "source": [
    "# 使用电子密度图来作为特征"
   ]
  },
  {
   "cell_type": "markdown",
   "id": "basic-reality",
   "metadata": {},
   "source": [
    "`StandardScaler()`  `X`"
   ]
  },
  {
   "cell_type": "markdown",
   "id": "relative-little",
   "metadata": {},
   "source": [
    "增加了一个dropout层，参数设为0.2，和keras中的相同"
   ]
  },
  {
   "cell_type": "markdown",
   "id": "martial-response",
   "metadata": {},
   "source": [
    "全部使用线性归一化，第一层的输出改为100"
   ]
  },
  {
   "cell_type": "markdown",
   "id": "placed-tribute",
   "metadata": {},
   "source": [
    "没有使用clearn"
   ]
  },
  {
   "cell_type": "code",
   "execution_count": 1,
   "id": "young-competition",
   "metadata": {},
   "outputs": [],
   "source": [
    "import pandas as pd\n",
    "import numpy as np\n",
    "\n",
    "from keras.models import Sequential\n",
    "from keras.layers import Dense, Activation\n",
    "from keras.optimizers import SGD\n",
    "from tensorflow.keras.layers.experimental.preprocessing import Normalization\n",
    "\n",
    "from sklearn.preprocessing import StandardScaler\n",
    "from sklearn import model_selection\n",
    "#from imblearn.over_sampling import RandomOverSampler\n",
    "import matplotlib.pyplot as plt\n",
    "%matplotlib inline"
   ]
  },
  {
   "cell_type": "code",
   "execution_count": 2,
   "id": "satellite-attachment",
   "metadata": {},
   "outputs": [],
   "source": [
    "dos_para = pd.read_csv('../data/substituted_benzene_para_dos.csv',index_col=0,header=0)\n",
    "dos_orth = pd.read_csv('../data/substituted_benzene_orth_dos.csv',index_col=0,header=0)\n",
    "dos_meta = pd.read_csv('../data/substituted_benzene_meta_dos.csv',index_col=0,header=0)\n",
    "dosdata = pd.concat([dos_meta,dos_orth,dos_para],axis=0,join='inner',ignore_index=True)\n",
    "\n",
    "gammadata_meta = pd.read_csv('../data/substituted_benzene_meta_gamma.csv',index_col=0,header=0)\n",
    "gammadata_orth = pd.read_csv('../data/substituted_benzene_orth_gamma.csv',index_col=0,header=0)\n",
    "gammadata_para = pd.read_csv('../data/substituted_benzene_para_gamma.csv',index_col=0,header=0)\n",
    "gammadata = pd.concat([gammadata_meta,gammadata_orth,gammadata_para],axis=0,join='inner',ignore_index=True)"
   ]
  },
  {
   "cell_type": "code",
   "execution_count": 3,
   "id": "nuclear-harrison",
   "metadata": {},
   "outputs": [],
   "source": [
    "def dfclean(data):\n",
    "    temp = data[data.T[data.dtypes!=np.object].index]\n",
    "    kk=[]\n",
    "    for column in temp.columns:\n",
    "        if len(set(temp[column]))<4:\n",
    "            kk.append(column)\n",
    "    result = temp.drop(columns=kk)\n",
    "    return temp"
   ]
  },
  {
   "cell_type": "code",
   "execution_count": 4,
   "id": "cubic-content",
   "metadata": {},
   "outputs": [],
   "source": [
    "rawdataset = pd.merge(dosdata, gammadata, on='cindex')\n",
    "dataset = dfclean(rawdataset)"
   ]
  },
  {
   "cell_type": "code",
   "execution_count": 7,
   "id": "green-heater",
   "metadata": {},
   "outputs": [],
   "source": [
    "training_data = np.array(dataset,dtype=np.float64)"
   ]
  },
  {
   "cell_type": "code",
   "execution_count": 8,
   "id": "architectural-ghost",
   "metadata": {},
   "outputs": [
    {
     "name": "stdout",
     "output_type": "stream",
     "text": [
      "var: nan\n",
      "mean: nan\n"
     ]
    }
   ],
   "source": [
    "normalizer = Normalization(axis=-1)\n",
    "normalizer.adapt(training_data)\n",
    "\n",
    "normalized_data = normalizer(training_data)\n",
    "print(\"var: %.4f\" % np.var(normalized_data))\n",
    "print(\"mean: %.4f\" % np.mean(normalized_data))"
   ]
  },
  {
   "cell_type": "code",
   "execution_count": 5,
   "id": "hawaiian-violence",
   "metadata": {},
   "outputs": [],
   "source": [
    "Y = dataset.iloc[:, -1]\n",
    "Y = np.array(Y, dtype = np.float64).reshape(-1,1)\n",
    "Y = (Y - min(Y))/(max(Y) - min(Y))"
   ]
  },
  {
   "cell_type": "code",
   "execution_count": 7,
   "id": "conservative-delaware",
   "metadata": {},
   "outputs": [
    {
     "name": "stderr",
     "output_type": "stream",
     "text": [
      "d:\\Miniconda3\\envs\\ai\\lib\\site-packages\\sklearn\\utils\\extmath.py:847: RuntimeWarning: invalid value encountered in true_divide\n",
      "  updated_mean = (last_sum + new_sum) / updated_sample_count\n",
      "d:\\Miniconda3\\envs\\ai\\lib\\site-packages\\sklearn\\utils\\extmath.py:689: RuntimeWarning: Degrees of freedom <= 0 for slice.\n",
      "  result = op(x, *args, **kwargs)\n"
     ]
    }
   ],
   "source": [
    "X = dataset.iloc[:, 1:-1]\n",
    "X = np.array(X, dtype = np.float64)\n",
    "#np.seterr(divide='ignore', invalid='ignore')\n",
    "X= StandardScaler().fit_transform(X)"
   ]
  },
  {
   "cell_type": "code",
   "execution_count": 8,
   "id": "approximate-uzbekistan",
   "metadata": {},
   "outputs": [
    {
     "name": "stdout",
     "output_type": "stream",
     "text": [
      "Model: \"sequential\"\n",
      "_________________________________________________________________\n",
      "Layer (type)                 Output Shape              Param #   \n",
      "=================================================================\n",
      "dense (Dense)                (None, 100)               300000    \n",
      "_________________________________________________________________\n",
      "activation (Activation)      (None, 100)               0         \n",
      "_________________________________________________________________\n",
      "dense_1 (Dense)              (None, 1)                 101       \n",
      "=================================================================\n",
      "Total params: 300,101\n",
      "Trainable params: 300,101\n",
      "Non-trainable params: 0\n",
      "_________________________________________________________________\n"
     ]
    }
   ],
   "source": [
    "X_train, X_test, y_train, y_test = model_selection.train_test_split(X, Y, test_size=0.25, random_state=42)\n",
    "model = Sequential()\n",
    "model.add(Dense(units = 100, input_dim = X.shape[1], activation='relu'))\n",
    "model.add(Activation(\"sigmoid\"))\n",
    "model.add(Dense(units = 1))\n",
    "model.summary()"
   ]
  },
  {
   "cell_type": "code",
   "execution_count": 9,
   "id": "boxed-corpus",
   "metadata": {},
   "outputs": [
    {
     "name": "stdout",
     "output_type": "stream",
     "text": [
      "Epoch 1/50\n",
      "9/9 [==============================] - 1s 43ms/step - loss: 0.0548 - accuracy: 0.0011 - val_loss: 0.0310 - val_accuracy: 0.0000e+00\n",
      "Epoch 2/50\n",
      "9/9 [==============================] - 0s 12ms/step - loss: 0.0269 - accuracy: 0.0035 - val_loss: 0.0303 - val_accuracy: 0.0000e+00\n",
      "Epoch 3/50\n",
      "9/9 [==============================] - 0s 12ms/step - loss: 0.0205 - accuracy: 7.4074e-04 - val_loss: 0.0336 - val_accuracy: 0.0000e+00\n",
      "Epoch 4/50\n",
      "9/9 [==============================] - 0s 11ms/step - loss: 0.0227 - accuracy: 0.0092 - val_loss: 0.0308 - val_accuracy: 0.0000e+00\n",
      "Epoch 5/50\n",
      "9/9 [==============================] - 0s 13ms/step - loss: 0.0216 - accuracy: 7.4074e-04 - val_loss: 0.0309 - val_accuracy: 0.0000e+00\n",
      "Epoch 6/50\n",
      "9/9 [==============================] - 0s 12ms/step - loss: 0.0184 - accuracy: 0.0092 - val_loss: 0.0309 - val_accuracy: 0.0000e+00\n",
      "Epoch 7/50\n",
      "9/9 [==============================] - 0s 12ms/step - loss: 0.0223 - accuracy: 0.0092 - val_loss: 0.0305 - val_accuracy: 0.0000e+00\n",
      "Epoch 8/50\n",
      "9/9 [==============================] - 0s 11ms/step - loss: 0.0227 - accuracy: 0.0027 - val_loss: 0.0309 - val_accuracy: 0.0000e+00\n",
      "Epoch 9/50\n",
      "9/9 [==============================] - 0s 12ms/step - loss: 0.0226 - accuracy: 0.0045 - val_loss: 0.0309 - val_accuracy: 0.0000e+00\n",
      "Epoch 10/50\n",
      "9/9 [==============================] - 0s 12ms/step - loss: 0.0208 - accuracy: 0.0045 - val_loss: 0.0306 - val_accuracy: 0.0000e+00\n",
      "Epoch 11/50\n",
      "9/9 [==============================] - 0s 12ms/step - loss: 0.0196 - accuracy: 0.0035 - val_loss: 0.0306 - val_accuracy: 0.0000e+00\n",
      "Epoch 12/50\n",
      "9/9 [==============================] - 0s 12ms/step - loss: 0.0224 - accuracy: 7.4074e-04 - val_loss: 0.0311 - val_accuracy: 0.0000e+00\n",
      "Epoch 13/50\n",
      "9/9 [==============================] - 0s 12ms/step - loss: 0.0232 - accuracy: 0.0011 - val_loss: 0.0311 - val_accuracy: 0.0000e+00\n",
      "Epoch 14/50\n",
      "9/9 [==============================] - 0s 12ms/step - loss: 0.0183 - accuracy: 0.0027 - val_loss: 0.0308 - val_accuracy: 0.0000e+00\n",
      "Epoch 15/50\n",
      "9/9 [==============================] - 0s 13ms/step - loss: 0.0195 - accuracy: 0.0092 - val_loss: 0.0306 - val_accuracy: 0.0000e+00\n",
      "Epoch 16/50\n",
      "9/9 [==============================] - 0s 11ms/step - loss: 0.0178 - accuracy: 0.0061 - val_loss: 0.0306 - val_accuracy: 0.0000e+00\n",
      "Epoch 17/50\n",
      "9/9 [==============================] - 0s 11ms/step - loss: 0.0238 - accuracy: 0.0027 - val_loss: 0.0309 - val_accuracy: 0.0000e+00\n",
      "Epoch 18/50\n",
      "9/9 [==============================] - 0s 12ms/step - loss: 0.0220 - accuracy: 0.0035 - val_loss: 0.0314 - val_accuracy: 0.0000e+00\n",
      "Epoch 19/50\n",
      "9/9 [==============================] - 0s 10ms/step - loss: 0.0216 - accuracy: 0.0027 - val_loss: 0.0308 - val_accuracy: 0.0000e+00\n",
      "Epoch 20/50\n",
      "9/9 [==============================] - 0s 11ms/step - loss: 0.0187 - accuracy: 0.0011 - val_loss: 0.0308 - val_accuracy: 0.0000e+00\n",
      "Epoch 21/50\n",
      "9/9 [==============================] - 0s 13ms/step - loss: 0.0275 - accuracy: 0.0016 - val_loss: 0.0312 - val_accuracy: 0.0000e+00\n",
      "Epoch 22/50\n",
      "9/9 [==============================] - 0s 11ms/step - loss: 0.0188 - accuracy: 0.0027 - val_loss: 0.0310 - val_accuracy: 0.0000e+00\n",
      "Epoch 23/50\n",
      "9/9 [==============================] - 0s 12ms/step - loss: 0.0184 - accuracy: 0.0027 - val_loss: 0.0307 - val_accuracy: 0.0000e+00\n",
      "Epoch 24/50\n",
      "9/9 [==============================] - 0s 11ms/step - loss: 0.0204 - accuracy: 0.0092 - val_loss: 0.0312 - val_accuracy: 0.0000e+00\n",
      "Epoch 25/50\n",
      "9/9 [==============================] - 0s 11ms/step - loss: 0.0198 - accuracy: 0.0021 - val_loss: 0.0308 - val_accuracy: 0.0000e+00\n",
      "Epoch 26/50\n",
      "9/9 [==============================] - 0s 12ms/step - loss: 0.0209 - accuracy: 0.0021 - val_loss: 0.0307 - val_accuracy: 0.0000e+00\n",
      "Epoch 27/50\n",
      "9/9 [==============================] - 0s 11ms/step - loss: 0.0201 - accuracy: 0.0061 - val_loss: 0.0310 - val_accuracy: 0.0000e+00\n",
      "Epoch 28/50\n",
      "9/9 [==============================] - 0s 11ms/step - loss: 0.0206 - accuracy: 0.0061 - val_loss: 0.0307 - val_accuracy: 0.0000e+00\n",
      "Epoch 29/50\n",
      "9/9 [==============================] - 0s 12ms/step - loss: 0.0200 - accuracy: 0.0035 - val_loss: 0.0308 - val_accuracy: 0.0000e+00\n",
      "Epoch 30/50\n",
      "9/9 [==============================] - 0s 12ms/step - loss: 0.0238 - accuracy: 0.0061 - val_loss: 0.0308 - val_accuracy: 0.0000e+00\n",
      "Epoch 31/50\n",
      "9/9 [==============================] - 0s 12ms/step - loss: 0.0210 - accuracy: 0.0092 - val_loss: 0.0311 - val_accuracy: 0.0000e+00\n",
      "Epoch 32/50\n",
      "9/9 [==============================] - 0s 13ms/step - loss: 0.0184 - accuracy: 0.0092 - val_loss: 0.0308 - val_accuracy: 0.0000e+00\n",
      "Epoch 33/50\n",
      "9/9 [==============================] - 0s 12ms/step - loss: 0.0181 - accuracy: 0.0027 - val_loss: 0.0308 - val_accuracy: 0.0000e+00\n",
      "Epoch 34/50\n",
      "9/9 [==============================] - 0s 11ms/step - loss: 0.0216 - accuracy: 0.0016 - val_loss: 0.0307 - val_accuracy: 0.0000e+00\n",
      "Epoch 35/50\n",
      "9/9 [==============================] - 0s 11ms/step - loss: 0.0223 - accuracy: 0.0016 - val_loss: 0.0308 - val_accuracy: 0.0000e+00\n",
      "Epoch 36/50\n",
      "9/9 [==============================] - 0s 10ms/step - loss: 0.0159 - accuracy: 0.0011 - val_loss: 0.0307 - val_accuracy: 0.0000e+00\n",
      "Epoch 37/50\n",
      "9/9 [==============================] - 0s 13ms/step - loss: 0.0190 - accuracy: 0.0035 - val_loss: 0.0303 - val_accuracy: 0.0000e+00\n",
      "Epoch 38/50\n",
      "9/9 [==============================] - 0s 12ms/step - loss: 0.0210 - accuracy: 0.0045 - val_loss: 0.0313 - val_accuracy: 0.0000e+00\n",
      "Epoch 39/50\n",
      "9/9 [==============================] - 0s 13ms/step - loss: 0.0179 - accuracy: 0.0027 - val_loss: 0.0305 - val_accuracy: 0.0000e+00\n",
      "Epoch 40/50\n",
      "9/9 [==============================] - 0s 12ms/step - loss: 0.0210 - accuracy: 0.0011 - val_loss: 0.0309 - val_accuracy: 0.0000e+00\n",
      "Epoch 41/50\n",
      "9/9 [==============================] - 0s 11ms/step - loss: 0.0210 - accuracy: 0.0035 - val_loss: 0.0312 - val_accuracy: 0.0000e+00\n",
      "Epoch 42/50\n",
      "9/9 [==============================] - 0s 11ms/step - loss: 0.0212 - accuracy: 0.0061 - val_loss: 0.0308 - val_accuracy: 0.0000e+00\n",
      "Epoch 43/50\n",
      "9/9 [==============================] - 0s 11ms/step - loss: 0.0203 - accuracy: 0.0027 - val_loss: 0.0309 - val_accuracy: 0.0000e+00\n",
      "Epoch 44/50\n",
      "9/9 [==============================] - 0s 12ms/step - loss: 0.0190 - accuracy: 0.0035 - val_loss: 0.0306 - val_accuracy: 0.0000e+00\n",
      "Epoch 45/50\n",
      "9/9 [==============================] - 0s 12ms/step - loss: 0.0209 - accuracy: 0.0021 - val_loss: 0.0308 - val_accuracy: 0.0000e+00\n",
      "Epoch 46/50\n",
      "9/9 [==============================] - 0s 12ms/step - loss: 0.0188 - accuracy: 0.0016 - val_loss: 0.0311 - val_accuracy: 0.0000e+00\n",
      "Epoch 47/50\n",
      "9/9 [==============================] - 0s 13ms/step - loss: 0.0192 - accuracy: 0.0011 - val_loss: 0.0309 - val_accuracy: 0.0000e+00\n",
      "Epoch 48/50\n",
      "9/9 [==============================] - 0s 12ms/step - loss: 0.0208 - accuracy: 0.0092 - val_loss: 0.0307 - val_accuracy: 0.0000e+00\n",
      "Epoch 49/50\n",
      "9/9 [==============================] - 0s 13ms/step - loss: 0.0204 - accuracy: 0.0027 - val_loss: 0.0316 - val_accuracy: 0.0000e+00\n",
      "Epoch 50/50\n",
      "9/9 [==============================] - 0s 12ms/step - loss: 0.0193 - accuracy: 0.0092 - val_loss: 0.0306 - val_accuracy: 0.0000e+00\n",
      "Test loss: 0.03064579889178276\n",
      "Test accuracy: 0.0\n",
      "Neural Network RMS 0.17505941530530644\n"
     ]
    }
   ],
   "source": [
    "model.compile(loss = 'mean_squared_error', optimizer = SGD(lr = 0.001, momentum = 0.9, nesterov = True),metrics=['accuracy'])\n",
    "history = model.fit(X_train, y_train, epochs = 50, batch_size = 32,validation_data = (X_test, y_test),verbose=1)\n",
    "score = model.evaluate(X_test, y_test, verbose = 0)\n",
    "print('Test loss:', score[0])\n",
    "print('Test accuracy:', score[1])\n",
    "y_pred = model.predict(X_test)\n",
    "rms = (np.mean((y_test - y_pred) ** 2)) ** 0.5\n",
    "print(\"Neural Network RMS\", rms)"
   ]
  },
  {
   "cell_type": "code",
   "execution_count": 10,
   "id": "involved-style",
   "metadata": {},
   "outputs": [
    {
     "data": {
      "image/png": "[encoded data removed]",
      "text/plain": [
       "<Figure size 1440x720 with 2 Axes>"
      ]
     },
     "metadata": {
      "needs_background": "light"
     },
     "output_type": "display_data"
    }
   ],
   "source": [
    "fig = plt.figure(figsize=(20,10))\n",
    "\n",
    "ax1 = fig.add_subplot(121)\n",
    "ax1.set_title('Neural Network Predictor')\n",
    "ax1.set_xlabel('Calculated gamma')\n",
    "ax1.set_ylabel('Predicted gamma')\n",
    "ax1.set_xlim(0,1)\n",
    "#ax1.set_ylim(0,1)\n",
    "ax1.scatter(y_train, model.predict(X_train), label = 'Train', c = 'blue')\n",
    "ax1.scatter(y_test, model.predict(X_test),c='green', label = 'Test', alpha = None)\n",
    "ax1.plot([0,1],[0,1],c = 'k')\n",
    "ax1.legend(loc = 4)\n",
    "\n",
    "loss = history.history['loss']\n",
    "val_loss = history.history['val_loss']\n",
    "epochs = len(loss)\n",
    "\n",
    "ax2 = fig.add_subplot(122)\n",
    "ax1.set_title('loss & val_loss for each epoch')\n",
    "ax2.set_xlabel('epochs')\n",
    "ax2.set_ylabel('loss')\n",
    "ax2.set_ylim(0,0.2)\n",
    "ax2.plot(range(epochs), loss, marker = '.', label = 'loss')\n",
    "ax2.plot(range(epochs), val_loss, marker = '.', label = 'val_loss')\n",
    "ax2.legend(loc = 'best')\n",
    "ax2.grid()\n",
    "\n",
    "plt.show()"
   ]
  },
  {
   "cell_type": "markdown",
   "id": "hairy-chapter",
   "metadata": {},
   "source": [
    "## Conclusion"
   ]
  },
  {
   "cell_type": "markdown",
   "id": "animal-damages",
   "metadata": {},
   "source": [
    "完全失败，可能是梯度爆炸，包含了太多的零了"
   ]
  }
 ],
 "metadata": {
  "kernelspec": {
   "display_name": "Python 3",
   "language": "python",
   "name": "python3"
  },
  "language_info": {
   "codemirror_mode": {
    "name": "ipython",
    "version": 3
   },
   "file_extension": ".py",
   "mimetype": "text/x-python",
   "name": "python",
   "nbconvert_exporter": "python",
   "pygments_lexer": "ipython3",
   "version": "3.8.8"
  }
 },
 "nbformat": 4,
 "nbformat_minor": 5
}
