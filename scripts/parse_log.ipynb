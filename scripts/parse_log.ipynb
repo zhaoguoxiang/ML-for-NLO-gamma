{
 "cells": [
  {
   "cell_type": "code",
   "execution_count": 1,
   "id": "surprising-benefit",
   "metadata": {},
   "outputs": [],
   "source": [
    "import cclib"
   ]
  },
  {
   "cell_type": "code",
   "execution_count": 4,
   "id": "starting-plymouth",
   "metadata": {},
   "outputs": [],
   "source": [
    "data = cclib.io.ccread('/dl_gamma/opt/benzenemono_2.log')"
   ]
  },
  {
   "cell_type": "code",
   "execution_count": 5,
   "id": "adjacent-edmonton",
   "metadata": {},
   "outputs": [
    {
     "data": {
      "text/plain": [
       "14"
      ]
     },
     "execution_count": 5,
     "metadata": {},
     "output_type": "execute_result"
    }
   ],
   "source": [
    "data.natom"
   ]
  },
  {
   "cell_type": "code",
   "execution_count": 7,
   "id": "interpreted-correlation",
   "metadata": {},
   "outputs": [
    {
     "data": {
      "text/plain": [
       "{'mulliken': array([-0.393215,  0.380329, -0.393212,  0.270897, -0.147043, -0.140324,\n",
       "        -0.109183, -0.140321, -0.147046,  0.18433 ,  0.150911,  0.148641,\n",
       "         0.150909,  0.184328])}"
      ]
     },
     "execution_count": 7,
     "metadata": {},
     "output_type": "execute_result"
    }
   ],
   "source": [
    "data.atomcharges"
   ]
  },
  {
   "cell_type": "code",
   "execution_count": 8,
   "id": "tough-literature",
   "metadata": {},
   "outputs": [
    {
     "data": {
      "text/plain": [
       "array([8, 7, 8, 6, 6, 6, 6, 6, 6, 1, 1, 1, 1, 1])"
      ]
     },
     "execution_count": 8,
     "metadata": {},
     "output_type": "execute_result"
    }
   ],
   "source": [
    "data.atomnos"
   ]
  },
  {
   "cell_type": "code",
   "execution_count": 9,
   "id": "comic-privilege",
   "metadata": {},
   "outputs": [
    {
     "data": {
      "text/plain": [
       "0"
      ]
     },
     "execution_count": 9,
     "metadata": {},
     "output_type": "execute_result"
    }
   ],
   "source": [
    "data.charge"
   ]
  },
  {
   "cell_type": "code",
   "execution_count": 11,
   "id": "charitable-angola",
   "metadata": {},
   "outputs": [
    {
     "data": {
      "text/plain": [
       "array([[[ 2.764239, -1.391177, -0.143628],\n",
       "        [ 2.311057, -0.24691 , -0.125279],\n",
       "        [ 2.994456,  0.77591 , -0.168356],\n",
       "        [ 0.847337, -0.090507, -0.045956],\n",
       "        [ 0.050342, -1.233225,  0.004142],\n",
       "        [-1.332166, -1.076952,  0.07905 ],\n",
       "        [-1.89478 ,  0.202417,  0.102705],\n",
       "        [-1.07608 ,  1.334224,  0.05147 ],\n",
       "        [ 0.308236,  1.194951, -0.023635],\n",
       "        [ 0.516286, -2.210589, -0.015908],\n",
       "        [-1.969661, -1.955057,  0.118938],\n",
       "        [-2.973401,  0.317648,  0.161193],\n",
       "        [-1.51485 ,  2.327299,  0.069954],\n",
       "        [ 0.968985,  2.051969, -0.06469 ]],\n",
       "\n",
       "       [[ 2.764239, -1.391177, -0.143628],\n",
       "        [ 2.311057, -0.24691 , -0.125279],\n",
       "        [ 2.994456,  0.77591 , -0.168356],\n",
       "        [ 0.847337, -0.090507, -0.045956],\n",
       "        [ 0.050342, -1.233225,  0.004142],\n",
       "        [-1.332166, -1.076952,  0.07905 ],\n",
       "        [-1.89478 ,  0.202417,  0.102705],\n",
       "        [-1.07608 ,  1.334224,  0.05147 ],\n",
       "        [ 0.308236,  1.194951, -0.023635],\n",
       "        [ 0.516286, -2.210589, -0.015908],\n",
       "        [-1.969661, -1.955057,  0.118938],\n",
       "        [-2.973401,  0.317648,  0.161193],\n",
       "        [-1.51485 ,  2.327299,  0.069954],\n",
       "        [ 0.968985,  2.051969, -0.06469 ]]])"
      ]
     },
     "execution_count": 11,
     "metadata": {},
     "output_type": "execute_result"
    }
   ],
   "source": [
    "data.converged_geometries"
   ]
  },
  {
   "cell_type": "code",
   "execution_count": 12,
   "id": "specific-peoples",
   "metadata": {},
   "outputs": [
    {
     "data": {
      "text/plain": [
       "array([-0.23914693, -0.23850295, -0.23875189, -0.23871551, -0.23861664,\n",
       "       -0.23879691, -0.23874379, -0.23874379])"
      ]
     },
     "execution_count": 12,
     "metadata": {},
     "output_type": "execute_result"
    }
   ],
   "source": [
    "data.jenergies"
   ]
  },
  {
   "cell_type": "code",
   "execution_count": 13,
   "id": "dedicated-italian",
   "metadata": {},
   "outputs": [
    {
     "data": {
      "text/plain": [
       "-436.64801"
      ]
     },
     "execution_count": 13,
     "metadata": {},
     "output_type": "execute_result"
    }
   ],
   "source": [
    "data.enthalpy"
   ]
  },
  {
   "cell_type": "code",
   "execution_count": 14,
   "id": "concerned-portugal",
   "metadata": {},
   "outputs": [
    {
     "data": {
      "text/plain": [
       "-436.687542"
      ]
     },
     "execution_count": 14,
     "metadata": {},
     "output_type": "execute_result"
    }
   ],
   "source": [
    "data.freeenergy"
   ]
  },
  {
   "cell_type": "code",
   "execution_count": 15,
   "id": "celtic-deadline",
   "metadata": {},
   "outputs": [
    {
     "data": {
      "text/plain": [
       "array([0.00045, 0.0003 , 0.0018 , 0.0012 ])"
      ]
     },
     "execution_count": 15,
     "metadata": {},
     "output_type": "execute_result"
    }
   ],
   "source": [
    "data.geotargets"
   ]
  },
  {
   "cell_type": "code",
   "execution_count": 16,
   "id": "anonymous-hunger",
   "metadata": {},
   "outputs": [
    {
     "data": {
      "text/plain": [
       "[array([0., 0., 0.]),\n",
       " array([-4.5504,  0.4862,  0.2464]),\n",
       " array([-59.2532,   1.303 ,   0.4059, -47.1694,  -0.0969, -51.7187]),\n",
       " array([-127.9609,    6.1643,    4.9215,  -35.4842,   -0.1343,  -18.9552,\n",
       "          11.3185,    1.9031,    2.0047,    3.0588]),\n",
       " array([-1.1516475e+03,  4.2788300e+01,  3.3497700e+01, -2.5226260e+02,\n",
       "        -7.1440000e-01, -1.7945260e+02,  9.5266000e+00,  4.3708800e+01,\n",
       "        -3.5323420e+02, -1.6952000e+00, -7.6690000e+01,  1.1125700e+01,\n",
       "         2.6544600e+01, -8.1440000e-01, -5.1162800e+01])]"
      ]
     },
     "execution_count": 16,
     "metadata": {},
     "output_type": "execute_result"
    }
   ],
   "source": [
    "data.moments"
   ]
  },
  {
   "cell_type": "code",
   "execution_count": 18,
   "id": "suburban-denial",
   "metadata": {},
   "outputs": [
    {
     "data": {
      "text/plain": [
       "(36, 14, 3)"
      ]
     },
     "execution_count": 18,
     "metadata": {},
     "output_type": "execute_result"
    }
   ],
   "source": [
    "data.vibdisps.shape"
   ]
  },
  {
   "cell_type": "code",
   "execution_count": 19,
   "id": "excessive-gardening",
   "metadata": {},
   "outputs": [
    {
     "data": {
      "text/plain": [
       "array([  60.222 ,  172.0207,  269.3249,  402.236 ,  419.9459,  450.5118,\n",
       "        528.2102,  625.8476,  690.5482,  695.4781,  718.1588,  809.1377,\n",
       "        859.0744,  862.5539,  962.6456,  985.9403, 1011.8777, 1020.2341,\n",
       "       1052.9779, 1117.0522, 1131.4938, 1203.4198, 1215.633 , 1350.187 ,\n",
       "       1373.8904, 1398.1239, 1503.8728, 1528.9309, 1624.5103, 1648.3511,\n",
       "       1676.1549, 3194.02  , 3207.0716, 3216.6805, 3250.7392, 3250.8625])"
      ]
     },
     "execution_count": 19,
     "metadata": {},
     "output_type": "execute_result"
    }
   ],
   "source": [
    "data.vibfreqs"
   ]
  },
  {
   "cell_type": "code",
   "execution_count": null,
   "id": "massive-scratch",
   "metadata": {},
   "outputs": [],
   "source": []
  }
 ],
 "metadata": {
  "kernelspec": {
   "display_name": "Python 3",
   "language": "python",
   "name": "python3"
  },
  "language_info": {
   "codemirror_mode": {
    "name": "ipython",
    "version": 3
   },
   "file_extension": ".py",
   "mimetype": "text/x-python",
   "name": "python",
   "nbconvert_exporter": "python",
   "pygments_lexer": "ipython3",
   "version": "3.9.2"
  }
 },
 "nbformat": 4,
 "nbformat_minor": 5
}
